{
  "nbformat": 4,
  "nbformat_minor": 0,
  "metadata": {
    "colab": {
      "provenance": [],
      "authorship_tag": "ABX9TyPCL/4laX26F7vJ+0p+YGM+",
      "include_colab_link": true
    },
    "kernelspec": {
      "name": "python3",
      "display_name": "Python 3"
    },
    "language_info": {
      "name": "python"
    }
  },
  "cells": [
    {
      "cell_type": "markdown",
      "metadata": {
        "id": "view-in-github",
        "colab_type": "text"
      },
      "source": [
        "<a href=\"https://colab.research.google.com/github/HawkClaws/OfficeToPDFConverter/blob/main/convert_to_pdf.ipynb\" target=\"_parent\"><img src=\"https://colab.research.google.com/assets/colab-badge.svg\" alt=\"Open In Colab\"/></a>"
      ]
    },
    {
      "cell_type": "code",
      "source": [
        "# LibreOfficeとunoconvをインストール\n",
        "!apt-get install -y libreoffice unoconv"
      ],
      "metadata": {
        "id": "a8za9BxlwINq"
      },
      "execution_count": null,
      "outputs": []
    },
    {
      "cell_type": "code",
      "source": [
        "import subprocess\n",
        "import os\n",
        "\n",
        "def convert_to_pdf(file_path, output_path=None):\n",
        "    \"\"\"\n",
        "    指定されたファイルをPDFに変換する関数。変換後のPDFファイルの保存先も指定できる。\n",
        "\n",
        "    Args:\n",
        "    file_path (str): 変換するファイルのパス。\n",
        "    output_path (str, optional): 生成されたPDFファイルの保存先パス。指定がない場合は元のファイルと同じ場所に保存される。\n",
        "\n",
        "    Returns:\n",
        "    str: 生成されたPDFファイルのパス。\n",
        "    \"\"\"\n",
        "    # 出力パスが指定されていない場合は、元のファイル名に基づいてPDFファイル名を生成\n",
        "    if output_path is None:\n",
        "        base_name, _ = os.path.splitext(file_path)\n",
        "        output_path = f\"{base_name}.pdf\"\n",
        "\n",
        "    # unoconvコマンドを実行してファイルをPDFに変換\n",
        "    subprocess.run(['unoconv', '-f', 'pdf', '-o', output_path, file_path])\n",
        "\n",
        "    print(f\"変換完了: {output_path}\")\n",
        "    return output_path\n"
      ],
      "metadata": {
        "id": "AQv2Pb4dwLrg"
      },
      "execution_count": null,
      "outputs": []
    },
    {
      "cell_type": "code",
      "source": [
        "# WordファイルをPDFに変換して、特定のパスに保存\n",
        "word_pdf = convert_to_pdf('sample.docx', 'pdf_outputs/sample_word.pdf')\n",
        "\n",
        "# ExcelファイルをPDFに変換して、特定のパスに保存\n",
        "excel_pdf = convert_to_pdf('sample.xlsx', 'pdf_outputs/sample_excel.pdf')\n",
        "\n",
        "# PowerPointファイルをPDFに変換して、特定のパスに保存\n",
        "powerpoint_pdf = convert_to_pdf('sample.pptx', 'pdf_outputs/sample_powerpoint.pdf')\n"
      ],
      "metadata": {
        "id": "YlcGKDMuIW4P"
      },
      "execution_count": null,
      "outputs": []
    }
  ]
}